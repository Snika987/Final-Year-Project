{
  "nbformat": 4,
  "nbformat_minor": 0,
  "metadata": {
    "colab": {
      "provenance": [],
      "authorship_tag": "ABX9TyNNh23FmSUOhQOG0FBrH+YX",
      "include_colab_link": true
    },
    "kernelspec": {
      "name": "python3",
      "display_name": "Python 3"
    },
    "language_info": {
      "name": "python"
    }
  },
  "cells": [
    {
      "cell_type": "markdown",
      "metadata": {
        "id": "view-in-github",
        "colab_type": "text"
      },
      "source": [
        "<a href=\"https://colab.research.google.com/github/Snika987/Final-Year-Project/blob/main/App_updated.ipynb\" target=\"_parent\"><img src=\"https://colab.research.google.com/assets/colab-badge.svg\" alt=\"Open In Colab\"/></a>"
      ]
    },
    {
      "cell_type": "code",
      "execution_count": null,
      "metadata": {
        "id": "2LU3ctkySGHC"
      },
      "outputs": [],
      "source": [
        "import streamlit as st\n",
        "from PIL import Image\n",
        "\n",
        "# Hardcoded usernames and passwords\n",
        "CREDENTIALS = {\n",
        "    \"admin\": \"admin123\",\n",
        "    \"doctor\": \"doctor123\",\n",
        "    \"user\": \"user123\"\n",
        "}\n",
        "\n",
        "# Navigation between pages\n",
        "def main():\n",
        "    if \"page\" not in st.session_state:\n",
        "        st.session_state.page = \"Login\"\n",
        "\n",
        "    if st.session_state.page == \"Login\":\n",
        "        login_page()\n",
        "    elif st.session_state.page == \"Upload\":\n",
        "        upload_page()\n",
        "    elif st.session_state.page == \"Prescriptive Analysis\":\n",
        "        prescriptive_analysis_page()\n",
        "\n",
        "# Login Page\n",
        "def login_page():\n",
        "    st.title(\"Colorectal Cancer Detection - Login\")\n",
        "    st.markdown(\"### Please login to continue\")\n",
        "\n",
        "    username = st.text_input(\"Username\", label_visibility=\"collapsed\")\n",
        "    password = st.text_input(\"Password\", type=\"password\", label_visibility=\"collapsed\")\n",
        "\n",
        "    if st.button(\"Login\"):\n",
        "        if username in CREDENTIALS and CREDENTIALS[username] == password:\n",
        "            st.session_state.page = \"Upload\"\n",
        "        else:\n",
        "            st.error(\"Invalid credentials. Please try again.\")\n",
        "\n",
        "# Upload Page\n",
        "def upload_page():\n",
        "    st.title(\"Cancer Detection System\")\n",
        "\n",
        "    # Colorectal Cancer Upload Section\n",
        "    st.markdown(\"### Upload the scan image for Colorectal Cancer Detection\")\n",
        "    uploaded_file = st.file_uploader(\"Choose an image\", type=[\"jpg\", \"png\", \"jpeg\",\"jfif\"], key=\"colorectal_upload\")\n",
        "\n",
        "    if uploaded_file is not None:\n",
        "        image = Image.open(uploaded_file)\n",
        "        resized_image = image.resize((300, 300))  # Resize image to 300x300 pixels\n",
        "        st.image(resized_image, caption=\"Uploaded Colorectal Scan Image\")\n",
        "        # Simulate prediction (replace with your ML model prediction)\n",
        "        prediction = st.radio(\"Prediction Result:\", [\"Cancerous\", \"Non-Cancerous\", \"Chances of Cancer\"], key=\"colorectal_result\")\n",
        "\n",
        "        if prediction == \"Chances of Cancer\":\n",
        "            if st.button(\"Go to Prescriptive Analysis\"):\n",
        "                st.session_state.page = \"Prescriptive Analysis\"\n",
        "\n",
        "    # GI Tract Cancer Upload Section\n",
        "    st.markdown(\"### Upload the scan image for GI Tract Cancer Detection\")\n",
        "    gi_uploaded_file = st.file_uploader(\"Choose an image\", type=[\"jpg\", \"png\", \"jpeg\",\"jfif\"], key=\"gi_upload\")\n",
        "\n",
        "    if gi_uploaded_file is not None:\n",
        "        gi_image = Image.open(gi_uploaded_file)\n",
        "        gi_resized_image = gi_image.resize((300, 300))  # Resize image to 300x300 pixels\n",
        "        st.image(gi_resized_image, caption=\"Uploaded GI Tract Scan Image\")\n",
        "        # Simulate prediction (replace with your ML model prediction)\n",
        "        gi_prediction = st.radio(\"Prediction Result:\", [\"Cancerous\", \"Non-Cancerous\", \"Chances of Cancer\"], key=\"gi_result\")\n",
        "\n",
        "        if gi_prediction == \"Chances of Cancer\":\n",
        "            if st.button(\"Go to Prescriptive Analysis\", key=\"gi_analysis\"):\n",
        "                st.session_state.page = \"Prescriptive Analysis\"\n",
        "\n",
        "# Prescriptive Analysis Page\n",
        "def prescriptive_analysis_page():\n",
        "    st.title(\"Prescriptive Analysis\")\n",
        "\n",
        "    st.markdown(\"### Ask your question\")\n",
        "    question = st.text_input(\"Question\")\n",
        "    if st.button(\"Submit Question\"):\n",
        "        # Simulated chatbot response (replace with actual chatbot logic)\n",
        "        st.text_area(\"Chatbot Answer\", \"This is a simulated chatbot response.\")\n",
        "\n",
        "    if st.button(\"Back to Upload Page\"):\n",
        "        st.session_state.page = \"Upload\"\n",
        "\n",
        "if _name_ == \"_main_\":\n",
        "    st.set_page_config(page_title=\"Colorectal Cancer Detection\")\n",
        "    main()"
      ]
    }
  ]
}